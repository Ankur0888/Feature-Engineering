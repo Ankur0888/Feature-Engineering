{
  "nbformat": 4,
  "nbformat_minor": 0,
  "metadata": {
    "colab": {
      "provenance": []
    },
    "kernelspec": {
      "name": "python3",
      "display_name": "Python 3"
    },
    "language_info": {
      "name": "python"
    }
  },
  "cells": [
    {
      "cell_type": "code",
      "execution_count": null,
      "metadata": {
        "id": "mfUub9aYL9V4"
      },
      "outputs": [],
      "source": [
        "                                               Feature Engineering Assignment"
      ]
    },
    {
      "cell_type": "code",
      "source": [
        "#Q1) What is a parameter?\n",
        "'''\n",
        "Ans. In machine learning, a parameter refers to a variable within a model that is learned from the data during the training process.\n",
        "Parameters determine how the model makes predictions based on the input data.\n",
        "'''"
      ],
      "metadata": {
        "id": "lPp2NkFyMNTH"
      },
      "execution_count": null,
      "outputs": []
    },
    {
      "cell_type": "code",
      "source": [
        "#Q2) What is correlation? What does negative correlation mean?\n",
        "'''\n",
        "Ans. Correlation is a statistical measure that describes the relationship between two variables. It indicates how one variable changes in relation to another and is expressed as a value between -1 and +1.\n",
        "\n",
        "Negative correlation means that as one variable increases, the other variable decreases, and vice versa.\n",
        "'''"
      ],
      "metadata": {
        "id": "viT75B56MVPv"
      },
      "execution_count": null,
      "outputs": []
    },
    {
      "cell_type": "code",
      "source": [
        "#Q3) Define Machine Learning. What are the main components in Machine Learning?\n",
        "'''\n",
        "Ans. Machine Learning (ML) is a branch of artificial intelligence (AI) that focuses on building systems capable of learning and improving from experience without being explicitly programmed. It uses algorithms and statistical models to identify patterns in data and make predictions or decisions.\n",
        "\n",
        "The main components of machine learning are Data, Features, Model, Algorithm, Objective/Loss Function, Optimization, Evaluation, and Prediction/Inference.\n",
        "'''"
      ],
      "metadata": {
        "id": "Pr6pXSiHMVnu"
      },
      "execution_count": null,
      "outputs": []
    },
    {
      "cell_type": "code",
      "source": [
        "#Q4) How does loss value help in determining whether the model is good or not?\n",
        "'''\n",
        "Ans. The loss value shows how far the model's predictions are from actual targets. A low loss means good performance, while a high loss indicates poor predictions.\n",
        "It helps detect underfitting/overfitting, guides training, and evaluates generalization to new data.\n",
        "'''"
      ],
      "metadata": {
        "id": "tCp28ab-MVzQ"
      },
      "execution_count": null,
      "outputs": []
    },
    {
      "cell_type": "code",
      "source": [
        "#Q5) What are continuous and categorical variables?\n",
        "'''\n",
        "Ans. Continuous Variables: These are variables that can take any value within a range, often representing measurable quantities. Examples include height, weight, and temperature. They are typically represented by real numbers and allow for mathematical operations like addition and division.\n",
        "\n",
        "Categorical Variables: These variables represent distinct categories or groups. They can be nominal (unordered, e.g., gender, colors) or ordinal (ordered, e.g., education levels).\n",
        "Categorical variables are usually represented by labels or codes.\n",
        "'''"
      ],
      "metadata": {
        "id": "b0owww1OMV73"
      },
      "execution_count": null,
      "outputs": []
    },
    {
      "cell_type": "code",
      "source": [
        "#Q6) How do we handle categorical variables in Machine Learning? What are the common techniques?\n",
        "'''\n",
        "Ans. To handle categorical variables in machine learning, common techniques include:\n",
        "\n",
        "Label Encoding: Assigns unique integers to categories (best for ordinal data).\n",
        "One-Hot Encoding: Creates binary columns for each category (best for nominal data).\n",
        "Binary Encoding: Combines label encoding and binary conversion, reducing dimensionality.\n",
        "Frequency Encoding: Replaces categories with their frequency in the dataset.\n",
        "Target Encoding: Replaces categories with the mean of the target variable.\n",
        "Embedding Layers: Used in neural networks to map categories to dense vectors.\n",
        "Hash Encoding: Maps categories using a hash function, reducing dimensionality.\n",
        "'''"
      ],
      "metadata": {
        "id": "WA4MajiWMWKH"
      },
      "execution_count": null,
      "outputs": []
    },
    {
      "cell_type": "code",
      "source": [
        "#Q7) What do you mean by training and testing a dataset?\n",
        "'''\n",
        "Ans 1. Training a Dataset: This involves feeding a portion of the data (training set) to the model, allowing it to learn patterns and adjust its parameters to minimize errors. It helps the model make predictions or classifications.\n",
        "\n",
        "Testing a Dataset: This involves evaluating the trained model on a separate portion of data (test set) to assess its ability to generalize to new, unseen data.\n",
        " It measures the model's performance using metrics like accuracy or precision.\n",
        " '''"
      ],
      "metadata": {
        "id": "QNEpVjfPMWVw"
      },
      "execution_count": null,
      "outputs": []
    },
    {
      "cell_type": "code",
      "source": [
        "#Q8) What is sklearn.preprocessing?\n",
        "'''\n",
        "Ans. sklearn.preprocessing is a module in scikit-learn that provides tools for preprocessing data, including scaling, encoding categorical variables, handling missing values, and creating polynomial features,\n",
        " to make the data suitable for machine learning models.\n",
        " '''"
      ],
      "metadata": {
        "id": "1NtItX5xMWdx"
      },
      "execution_count": null,
      "outputs": []
    },
    {
      "cell_type": "code",
      "source": [
        "#Q9) What is a Test set?\n",
        "'''\n",
        "Ans. A test set is a portion of the dataset that is used to evaluate the performance of a machine learning model after it has been trained.\n",
        "'''"
      ],
      "metadata": {
        "id": "O0QouU3MMWh4"
      },
      "execution_count": null,
      "outputs": []
    },
    {
      "cell_type": "code",
      "source": [
        "#Q10) How do we split data for model fitting (training and testing) in Python? How do you approach a Machine Learning problem?\n",
        "\n",
        "#In Python, the most common way to split data for training and testing is using train_test_split from the sklearn.model_selection module.\n",
        "\n",
        "from sklearn.model_selection import train_test_split\n",
        "\n",
        "# X: Features, y: Target\n",
        "#X_train, X_test, y_train, y_test = train_test_split(X, y, test_size=0.2, random_state=42)\n",
        "\n",
        "#X: Features (independent variables).\n",
        "#y: Target (dependent variable).\n",
        "#test_size=0.2: Defines the proportion of the data to be used for testing (20% in this case).\n",
        "#random_state=42: Ensures reproducibility by setting a seed for random number generation.\n",
        "#This will split the dataset into 80% for training and 20% for testing by default, but you can adjust the test_size to fit your needs.\n",
        "\n",
        "'''\n",
        "Approach to Solving a Machine Learning Problem:\n",
        "\n",
        "Understand the Problem: Define the objective (e.g., classification, regression).\n",
        "\n",
        "Data Collection: Gather relevant, clean, and sufficient data.\n",
        "\n",
        "Data Preprocessing: Handle missing values, outliers, and encode features.\n",
        "\n",
        "Feature Engineering: Select and create relevant features; scale/normalize if needed.\n",
        "\n",
        "Model Selection: Choose an appropriate model (e.g., decision tree, regression).\n",
        "\n",
        "Model Training: Train the model on the training set and tune hyperparameters.\n",
        "\n",
        "Model Evaluation: Evaluate performance using metrics like accuracy, F1-score.\n",
        "\n",
        "Model Improvement: Improve by tuning features, model, or hyperparameters.\n",
        "\n",
        "Deployment: Deploy the model for real-world use.\n",
        "\n",
        "Monitoring: Continuously monitor and update the model as needed.\n",
        "'''"
      ],
      "metadata": {
        "id": "CN9CMbi4MWk4"
      },
      "execution_count": null,
      "outputs": []
    },
    {
      "cell_type": "code",
      "source": [
        "#Q11) Why do we have to perform EDA before fitting a model to the data?\n",
        "'''\n",
        "Ans. Exploratory Data Analysis (EDA) is performed before fitting a model to the data to gain insights and ensure the data is ready for modeling. Here are the key reasons why EDA is important:\n",
        "\n",
        "EDA (Exploratory Data Analysis) is essential before modeling to:\n",
        "\n",
        "Understand data structure and relationships.\n",
        "\n",
        "Detect missing, invalid data, and outliers.\n",
        "\n",
        "Inform feature selection and transformations.\n",
        "\n",
        "Check model assumptions.\n",
        "\n",
        "Select the appropriate model for the data.\n",
        "\n",
        "It ensures the data is clean, well-prepared, and suitable for modeling.\n",
        "'''"
      ],
      "metadata": {
        "id": "C-YOHIyZMWoH"
      },
      "execution_count": null,
      "outputs": []
    },
    {
      "cell_type": "code",
      "source": [
        "#Q12) What is correlation?\n",
        "'''\n",
        "Ans. Correlation is a statistical measure that describes the relationship between two variables.\n",
        " It indicates how one variable changes in relation to another and is expressed as a value between -1 and +1.\n",
        " '''"
      ],
      "metadata": {
        "id": "6gGlydklMWs4"
      },
      "execution_count": null,
      "outputs": []
    },
    {
      "cell_type": "code",
      "source": [
        "#Q13) What does negative correlation mean?\n",
        "'''\n",
        "Ans. Negative correlation means that as one variable increases, the other variable decreases, and vice versa.\n",
        "'''"
      ],
      "metadata": {
        "id": "T64z-RqcNyxV"
      },
      "execution_count": null,
      "outputs": []
    },
    {
      "cell_type": "code",
      "source": [
        "#Q14) How can you find correlation between variables in Python?\n",
        "\n",
        "#To find the correlation between variables in Python, you can use statistical libraries such as Pandas, NumPy, or SciPy. Here's how you can do it:\n",
        "import pandas as pd\n",
        "\n",
        "# Example dataset\n",
        "data = {\n",
        "    'Variable1': [1, 2, 3, 4, 5],\n",
        "    'Variable2': [2, 4, 6, 8, 10],\n",
        "    'Variable3': [5, 3, 6, 2, 1]\n",
        "}\n",
        "df = pd.DataFrame(data)\n",
        "\n",
        "# Correlation matrix\n",
        "correlation_matrix = df.corr()\n",
        "print(correlation_matrix)\n"
      ],
      "metadata": {
        "colab": {
          "base_uri": "https://localhost:8080/"
        },
        "id": "xK3aHt5hNy2I",
        "outputId": "3aa73376-631d-4a02-9f0a-bd087f845509"
      },
      "execution_count": 1,
      "outputs": [
        {
          "output_type": "stream",
          "name": "stdout",
          "text": [
            "           Variable1  Variable2  Variable3\n",
            "Variable1   1.000000   1.000000  -0.686244\n",
            "Variable2   1.000000   1.000000  -0.686244\n",
            "Variable3  -0.686244  -0.686244   1.000000\n"
          ]
        }
      ]
    },
    {
      "cell_type": "code",
      "source": [
        "#Using NumPy\n",
        "#The numpy.corrcoef() function calculates the Pearson correlation coefficient.\n",
        "import numpy as np\n",
        "\n",
        "# Example variables\n",
        "x = [1, 2, 3, 4, 5]\n",
        "y = [2, 4, 6, 8, 10]\n",
        "\n",
        "# Correlation coefficient\n",
        "correlation = np.corrcoef(x, y)\n",
        "print(correlation)"
      ],
      "metadata": {
        "colab": {
          "base_uri": "https://localhost:8080/"
        },
        "id": "uu2ANKDsNy6N",
        "outputId": "7af96968-1da0-461d-bfec-7a9592c3ee97"
      },
      "execution_count": 2,
      "outputs": [
        {
          "output_type": "stream",
          "name": "stdout",
          "text": [
            "[[1. 1.]\n",
            " [1. 1.]]\n"
          ]
        }
      ]
    },
    {
      "cell_type": "code",
      "source": [
        "#Q15) What is causation? Explain difference between correlation and causation with an example.\n",
        "'''\n",
        "Ans. Causation means that one event directly causes another. In other words, a change in one variable (the cause) directly results in a change in another variable (the effect). Establishing causation requires evidence of a direct cause-and-effect relationship.\n",
        "\n",
        "Difference Between Correlation and Causation\n",
        "\n",
        "Correlation: Measures the statistical relationship or association between two variables. Correlation does not imply that one variable causes the other to change. It simply shows that the variables move together in some way (positive, negative, or no relationship).\n",
        "\n",
        "Causation: Indicates that one variable's change directly leads to a change in another variable. It implies a cause-and-effect relationship.\n",
        "\n",
        "Example, Suppose we find a positive correlation between ice cream sales and drowning incidents:\n",
        "\n",
        "When ice cream sales increase, drowning incidents also increase. This correlation does not imply causation. It is likely that a third variable, such as hot weather, causes both:\n",
        "\n",
        "Hot weather increases ice cream sales. Hot weather also leads to more people swimming, which can increase the likelihood of drowning.\n",
        " Here, the relationship between ice cream sales and drowning incidents is correlation, not causation.\n",
        " '''"
      ],
      "metadata": {
        "id": "WvGBwm3TNy9M"
      },
      "execution_count": null,
      "outputs": []
    },
    {
      "cell_type": "code",
      "source": [
        "#Q16) What is an Optimizer? What are different types of optimizers? Explain each with an example.\n",
        "'''\n",
        "Ans. An optimizer is an algorithm or method used to adjust the weights and biases of a machine learning model during training to minimize the error (loss function). The goal is to improve the model's accuracy and predictive performance by finding the optimal set of parameters.\n",
        "\n",
        "Optimizers are essential in the backpropagation process, where they update the parameters based on the gradients computed from the loss function.\n",
        "\n",
        "Here’s a quick summary of the different types of optimizers:\n",
        "\n",
        "Gradient Descent: Adjusts weights using the negative gradient of the loss function.\n",
        "Variants: Batch, Stochastic (SGD), Mini-Batch.\n",
        "\n",
        "Use: General-purpose, slower convergence.\n",
        "\n",
        "Momentum: Speeds up Gradient Descent by adding a fraction of the previous update to the current step.\n",
        "Use: Faster convergence, handles oscillations.\n",
        "\n",
        "Adagrad: Adapts learning rate for each parameter based on historical gradients.\n",
        "Use: Sparse data, diminishing learning rates.\n",
        "\n",
        "#example\n",
        "# Pseudo code for SGD\n",
        "#weight = weight - learning_rate * gradient\n",
        "'''"
      ],
      "metadata": {
        "id": "UYvlkNlPNzDD"
      },
      "execution_count": null,
      "outputs": []
    },
    {
      "cell_type": "code",
      "source": [
        "#Q17) What is sklearn.linear_model ?\n",
        "'''\n",
        "Ans. sklearn.linear_model is a module in scikit-learn, a popular Python library for machine learning, that provides tools for implementing linear models.\n",
        " Linear models are used for predicting a target variable by fitting a linear relationship between the input features and the target.\n",
        " '''"
      ],
      "metadata": {
        "id": "QS7B4zwoNzF2"
      },
      "execution_count": null,
      "outputs": []
    },
    {
      "cell_type": "code",
      "source": [
        "#Q18) What does model.fit() do? What arguments must be given?\n",
        "'''\n",
        "Ans. The model.fit() method in scikit-learn is used to train a machine learning model on the given data. It:\n",
        "\n",
        "Fits the model to the training data by estimating the parameters (e.g., weights, biases).\n",
        "\n",
        "Learns the relationship between input features (X) and the target variable (y).\n",
        "\n",
        "Stores the learned parameters in the model instance for later use (e.g., prediction).\n",
        "\n",
        "Arguments for model.fit(): X: Type: 2D array or matrix. Shape: (n_samples, n_features). Purpose: Input features.\n",
        "\n",
        "y: Type: 1D or 2D array. Shape: (n_samples,) or (n_samples, n_targets). Purpose: Target variable(s).\n",
        "\n",
        "Optional: sample_weight: Weights for samples. Model-specific parameters like epochs or callbacks.\n",
        "'''"
      ],
      "metadata": {
        "id": "EdhSeI5DNzIQ"
      },
      "execution_count": null,
      "outputs": []
    },
    {
      "cell_type": "code",
      "source": [
        "#Q19) What does model.predict() do? What arguments must be given?\n",
        "'''\n",
        "Ans. The model.predict() method in scikit-learn is used to make predictions on new, unseen data after a model has been trained using model.fit(). It takes input features and outputs predicted values or labels based on the learned relationship.\n",
        "\n",
        "Arguments for model.predict():\n",
        "\n",
        "X: Type: 2D array or matrix. Shape: (n_samples, n_features). Purpose: Input features for which predictions are made.\n",
        "\n",
        "Output: Regression: Continuous values. Classification: Class labels.\n",
        "'''"
      ],
      "metadata": {
        "id": "XqYDTuoZO1DM"
      },
      "execution_count": null,
      "outputs": []
    },
    {
      "cell_type": "code",
      "source": [
        "#Q20) What are continuous and categorical variables?\n",
        "'''\n",
        "Ans. 1. Continuous Variables :\n",
        "\n",
        "Definition: Continuous variables are quantitative variables that can take any value within a given range or interval.\n",
        "\n",
        "Examples: Temperature (e.g., 22.5°C, 25.8°C) Height (e.g., 5.8 feet, 6.1 feet) Weight (e.g., 70.5 kg, 80.3 kg)\n",
        "\n",
        "Categorical Variables :\n",
        "Definition: Categorical variables represent categories or groups that are often qualitative in nature.\n",
        "\n",
        "Examples: Nominal: Colors (e.g., Red, Blue, Green) Gender (e.g., Male, Female, Other)\n",
        "\n",
        "Ordinal: Education level (e.g., High School, Bachelor's, Master's) Rating scale (e.g., Poor, Average, Good, Excellent)\n",
        "'''"
      ],
      "metadata": {
        "id": "BAPnQv3ZO1K8"
      },
      "execution_count": null,
      "outputs": []
    },
    {
      "cell_type": "code",
      "source": [
        "#Q21) What is feature scaling? How does it help in Machine Learning?\n",
        "'''\n",
        "Ans. Feature scaling is the process of transforming the features (input variables) in a dataset to a common scale or range It involves rescaling the features so that they are on a similar scale, making the model training process more efficient and improving performance.\n",
        "\n",
        "Why Feature Scaling is Important in Machine Learning\n",
        "\n",
        "Improves Model Performance:\n",
        "Gradient-based algorithms (e.g., Gradient Descent, Logistic Regression, Neural Networks) converge faster when features are scaled because they use the gradient of the loss function to adjust model parameters.\n",
        "\n",
        "Distance-based algorithms (e.g., K-Nearest Neighbors (KNN), Support Vector Machines (SVM)) rely on distances between data points. If one feature has much larger values than another, it can dominate the distance calculations and negatively affect the model's performance.\n",
        "\n",
        "Prevents Dominance of Features:\n",
        "Features with larger numerical ranges can overshadow those with smaller ranges, affecting how the model learns.\n",
        "\n",
        "Improves Interpretability:\n",
        "Scaling features to the same range can help interpret the importance of each feature in models like linear regression,\n",
        " where coefficients represent feature importance.\n",
        " '''"
      ],
      "metadata": {
        "id": "6XheCiuNPDl6"
      },
      "execution_count": null,
      "outputs": []
    },
    {
      "cell_type": "code",
      "source": [
        "#Q22) How do we perform scaling in Python?\n",
        "\n",
        "#Ans. In Python, scaling of features is typically done using the scikit-learn library, which provides various preprocessing functions for scaling. Here’s how you can perform scaling in Python using different methods:\n",
        "\n",
        "#1. Min-Max Scaling (Normalization)\n",
        "#This method rescales the features to a fixed range, typically [0, 1].\n",
        "\n",
        "#Steps:\n",
        "#Use MinMaxScaler from sklearn.preprocessing.\n",
        "\n",
        "from sklearn.preprocessing import MinMaxScaler\n",
        "\n",
        "# Sample data (features)\n",
        "X = [[1, 2, 3], [4, 5, 6], [7, 8, 9]]\n",
        "\n",
        "# Initialize the scaler\n",
        "scaler = MinMaxScaler()\n",
        "\n",
        "# Fit and transform the data\n",
        "X_scaled = scaler.fit_transform(X)\n",
        "\n",
        "# Output the scaled features\n",
        "print(X_scaled)"
      ],
      "metadata": {
        "colab": {
          "base_uri": "https://localhost:8080/"
        },
        "id": "_li9JASDPDtY",
        "outputId": "b120d9b3-d2c4-46e2-f5b8-dbc407a3deec"
      },
      "execution_count": 3,
      "outputs": [
        {
          "output_type": "stream",
          "name": "stdout",
          "text": [
            "[[0.  0.  0. ]\n",
            " [0.5 0.5 0.5]\n",
            " [1.  1.  1. ]]\n"
          ]
        }
      ]
    },
    {
      "cell_type": "code",
      "source": [
        "#Q23) What is sklearn.preprocessing?\n",
        "'''\n",
        "Ans. 1. sklearn.preprocessing is a module in scikit-learn that provides a suite of functions and classes to preprocess data before it is used to train machine learning models. These preprocessing techniques are essential for transforming data into a format that can help machine learning algorithms perform optimally.\n",
        "\n",
        "sklearn.preprocessing provides tools to scale, normalize, and transform data.\n",
        "\n",
        "It helps convert raw data into a form suitable for machine learning algorithms to achieve better results.\n",
        "'''"
      ],
      "metadata": {
        "id": "_yKmQ63TPatb"
      },
      "execution_count": null,
      "outputs": []
    },
    {
      "cell_type": "code",
      "source": [
        "#Q24) How do we split data for model fitting (training and testing) in Python?\n",
        "\n",
        "#Ans. To split data into training and testing sets in Python, you typically use the train_test_split() function from scikit-learn.\n",
        "#This function randomly splits the dataset into two subsets: one for training the model and the other for testing its performance.\n",
        "\n",
        "from sklearn.model_selection import train_test_split\n",
        "\n",
        "# Example data\n",
        "X = [[1, 2], [3, 4], [5, 6], [7, 8], [9, 10]]  # Features\n",
        "y = [0, 1, 0, 1, 0]  # Target\n",
        "\n",
        "# Split data into training and testing sets\n",
        "X_train, X_test, y_train, y_test = train_test_split(X, y, test_size=0.2, random_state=42)"
      ],
      "metadata": {
        "id": "AsPGtU-NPhIq"
      },
      "execution_count": null,
      "outputs": []
    },
    {
      "cell_type": "code",
      "source": [
        "#Q25) Explain data encoding?\n",
        "\n",
        "#Ans.  1. Data encoding refers to the process of converting categorical data (non-numeric) into a numerical format that machine learning algorithms\n",
        "#can understand.\n",
        "\n",
        "#2. Many machine learning models require numerical input, so encoding categorical features into numeric values is a crucial step in preprocessing.\n",
        "\n",
        "#Types of Data Encoding\n",
        "#Label Encoding\n",
        "\n",
        "#Converts each category into a unique integer.\n",
        "#Best suited for ordinal categorical variables where the categories have a natural order (e.g., \"Low\", \"Medium\", \"High\").\n",
        "\n",
        "from sklearn.preprocessing import LabelEncoder\n",
        "\n",
        "# Sample categorical data\n",
        "categories = ['Low', 'Medium', 'High', 'Medium', 'Low']\n",
        "\n",
        "# Initialize the encoder\n",
        "encoder = LabelEncoder()\n",
        "\n",
        "# Fit and transform the data\n",
        "encoded_data = encoder.fit_transform(categories)\n",
        "\n",
        "print(encoded_data)  # Output: [1, 2, 0, 2, 1]"
      ],
      "metadata": {
        "colab": {
          "base_uri": "https://localhost:8080/"
        },
        "id": "VUuWrpkEPqKE",
        "outputId": "9d272d5a-9d3f-47a9-bb8e-fedf658b71e9"
      },
      "execution_count": 4,
      "outputs": [
        {
          "output_type": "stream",
          "name": "stdout",
          "text": [
            "[1 2 0 2 1]\n"
          ]
        }
      ]
    }
  ]
}